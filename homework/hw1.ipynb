{
  "cells": [
    {
      "cell_type": "markdown",
      "id": "0",
      "metadata": {
        "id": "0"
      },
      "source": [
        "# HW1 - Base Python"
      ]
    },
    {
      "cell_type": "markdown",
      "id": "1",
      "metadata": {
        "id": "1"
      },
      "source": [
        "See Canvas for details on how to complete and submit this assignment."
      ]
    },
    {
      "cell_type": "markdown",
      "id": "2",
      "metadata": {
        "id": "2"
      },
      "source": [
        "## Introduction"
      ]
    },
    {
      "cell_type": "markdown",
      "id": "3",
      "metadata": {
        "id": "3"
      },
      "source": [
        "This assignment bridges foundational Python concepts with the data manipulation skills you'll need throughout the course. You'll work with nested data structures, implement string processing algorithms, clean messy data, and recreate built-in Python functionality from scratch - all essential skills for data science.\n",
        "\n",
        "### Learning Objectives\n",
        "\n",
        "- Become familiar with professional code styling guidelines and use them to improve the readability and maintainability of your code\n",
        "- Compare and contrast different data structures (lists vs. dictionaries) through hands-on implementation\n",
        "- Practice test-driven development using assertions to verify code correctness\n",
        "- Transform messy, real-world data into clean, analyzable formats\n",
        "- Progress from explicit loops to Pythonic idioms that you'll use with pandas and numpy\n",
        "\n",
        "The problems follow a deliberate progression from simple text processing to complex data transformations. You'll implement solutions using basic constructs first, then explore how Python's built-in tools and methods can simplify your code. This approach mirrors real-world development, where understanding the problem deeply leads to better solution choices.\n",
        "\n",
        "Each function you write will be tested automatically, introducing the testing practices essential for reliable data analysis. By the end, you'll have practical experience with the exact patterns you'll use when cleaning datasets, aggregating results, and transforming data structures throughout your data science journey.\n",
        "\n",
        "It should take 3-5 hours to complete, toward the higher side for Graduate Students.\n",
        "\n",
        "### Generative AI Allowance\n",
        "\n",
        "You may use GenAI tools for brainstorming, explanations, and code sketches if you disclose it, understand it, and validate it. Your submission must represent your own work and you are solely responsible for its correctness.\n",
        "\n",
        "### Scoring\n",
        "\n",
        "- Reading: 30pts, 15 each\n",
        "- Coding: 60pts, 15 each\n",
        "- Reflection: 10pts"
      ]
    },
    {
      "cell_type": "markdown",
      "id": "4",
      "metadata": {
        "id": "4"
      },
      "source": [
        "## Reading"
      ]
    },
    {
      "cell_type": "markdown",
      "id": "5",
      "metadata": {
        "id": "5"
      },
      "source": [
        "### Markdown Guide"
      ]
    },
    {
      "cell_type": "markdown",
      "id": "6",
      "metadata": {
        "id": "6"
      },
      "source": [
        "Complete the [Markdown Tutorial](https://www.markdowntutorial.com) and review the [Basic Syntax section of Markdown Guide](https://www.markdownguide.org/basic-syntax/).\n",
        "\n",
        "Add a text / markdown cell below this one and give some brief insights from that experience. Include a numbered list, some text formatting (e.g. bold and/or italics), and a level 3 header in that, along with any other formatting you would like to include."
      ]
    },
    {
      "cell_type": "markdown",
      "source": [
        "### Quick takeaways from the Markdown Tutorial\n",
        "\n",
        "After going through **Markdown Tutorial** and the **Basic Syntax** guide, here are a few things that stood out:\n",
        "\n",
        "1. **Headings are simple.** Use `#` for titles and more `#` for smaller headings (e.g., `###` = level 3).\n",
        "2. *Emphasis matters.* You can use *italics* with single asterisks `_` or `*`, **bold** with double `__` or `**`, and even ***bold italics*** with three.\n",
        "3. **Lists are flexible.**\n",
        "   - Ordered lists use numbers: `1.`, `2.`, `3.`\n",
        "   - Unordered lists use `-` or `*`\n",
        "4. **Links & images** are concise:\n",
        "   - Link: [Markdown Guide](https://www.markdownguide.org/basic-syntax/)\n",
        "   - Image: ![Image](https://1drv.ms/i/c/dccdca78bd3e09e9/EekJPr14ys0ggNxAGgAAAAABb8a3lC81atP3G72twLQz-Q?e=fTZdHS)\n",
        "5. **Code & quotes** improve clarity:\n",
        "   - Inline code like `print(\"hello\")`\n",
        "   - Fenced code blocks:\n",
        "     ```python\n",
        "     for i in range(3):\n",
        "         print(i)\n",
        "     ```\n",
        "   - Blockquote for callouts:\n",
        "     > “Markdown is easy to write and easy to read.”\n",
        "\n",
        "---\n",
        "\n",
        " The tutorial reinforces writing-first workflow—focus on content, then add minimal formatting for structure and readability. For a quick refresher, the tutorial is at https://www.markdowntutorial.com/ and the syntax guide is at https://www.markdownguide.org/basic-syntax/."
      ],
      "metadata": {
        "id": "Hk90aHvO9Wut"
      },
      "id": "Hk90aHvO9Wut"
    },
    {
      "cell_type": "markdown",
      "id": "7",
      "metadata": {
        "id": "7"
      },
      "source": [
        "### Python Standards"
      ]
    },
    {
      "cell_type": "markdown",
      "id": "8",
      "metadata": {
        "id": "8"
      },
      "source": [
        "Review [PEP 8, the Style Guide for Python](https://peps.python.org/pep-0008/), focusing on the elements that are familiar to you and most applicable in your current stage development as a Python user.\n",
        "\n",
        "Add a text / markdown cell below this one to share your main takeaways. You might address some of the following issues and/or entirely different topics.\n",
        "\n",
        "- Why is code styling important for collaboration and maintainability?\n",
        "- Which of the PEP 8 recommendations felt the most applicable to you?\n",
        "- Which do you plan to implement?\n",
        "- Which were the most surprising?\n",
        "\n",
        "**Graduate students only:** Also review [Google's Python Style Guide](https://google.github.io/styleguide/pyguide.html) and consider it in your response."
      ]
    },
    {
      "cell_type": "markdown",
      "source": [
        "### PEP 8 & Google Python Style Guide — Key Takeaways\n",
        "\n",
        "**Why code styling matters:** consistent style reduces cognitive load, lowers merge conflicts, and makes code reviews faster. Clean, predictable code is easier to test, debug, and onboard new collaborators to.\n",
        "\n",
        "**Most applicable PEP 8 practices for me right :**\n",
        "1. **Naming:** modules/functions/variables use `lower_snake_case`; classes use `CapWords`; constants use `UPPER_SNAKE_CASE`.\n",
        "2. **Line length:** keep code lines short (PEP 8 suggests **79**; many teams use **88** with Black). Prefer breaking long expressions with **implicit** line continuation inside `()`.\n",
        "3. **Whitespace discipline:** spaces around binary operators (`a + b`), **no** extra spaces inside parentheses/brackets, and **no spaces around `=` in default args** (e.g., `def f(x=1):`).\n",
        "4. **Imports:** top of file, one per line, grouped & ordered: stdlib → third-party → local. Avoid `from x import *`.\n",
        "5. **Docstrings:** use triple double quotes; write a clear one-line summary, then details if needed.\n",
        "6. **Readability hints:** prefer `if x is None` to `if x == None`; avoid bare `except:`; keep functions small and focused.\n",
        "\n",
        "**What I plan to implement immediately:**\n",
        "-  Run **Black** (formatting) and **ruff/flake8** (linting) on save.  \n",
        "-  Enforce import order with **isort** (stdlib → third-party → local).  \n",
        "-  Add **type hints** in new/edited functions (`def f(x: int) -> str:`) and run a type checker (mypy/pyright).  \n",
        "-  Adopt **Google-style docstrings** (`Args:`, `Returns:`, `Raises:`) for public functions.  \n",
        "- Keep lines ≤ 88 and break long expressions with parentheses.\n",
        "\n",
        "**Most surprising bits:**\n",
        "- PEP 8’s classic **79-char** line limit (still common in core Python); many modern teams use **88** (Black) or **100**, but staying short improves diffs.\n",
        "- No spaces around `=` **in default parameters** (but do use spaces around assignment elsewhere).\n",
        "- “`is` vs `==`” for `None` checks, and **never** use a bare `except:`.\n",
        "\n",
        ">**Graduate note — what Google’s Python Style Guide adds:**\n",
        "* A stricter 80-character line limit with documented exceptions.\n",
        "* Prefer absolute imports and keep groups tidy and separate.\n",
        "* Strong guidance on concise docstrings and consistent commenting.\n",
        "* Clear expectations for typing, logging (use a format string plus arguments), and mandatory tooling such as linters."
      ],
      "metadata": {
        "id": "o2glLnD0ug1f"
      },
      "id": "o2glLnD0ug1f"
    },
    {
      "cell_type": "markdown",
      "id": "9",
      "metadata": {
        "id": "9"
      },
      "source": [
        "## Coding"
      ]
    },
    {
      "cell_type": "markdown",
      "id": "10",
      "metadata": {
        "id": "10"
      },
      "source": [
        "Your code will be evaluated primarily on functionality, but basic PEP 8 compliance will be considered:\n",
        "\n",
        "- Descriptive function names using `snake_case`\n",
        "- Clear docstrings explaining function purpose\n",
        "- Meaningful variable names\n",
        "- Proper spacing around operators\n",
        "\n",
        "All solutions will be implemented as functions. This is best practice for many reasons, including testability. As you will see, with functions we can write simple tests to check the correctness of implementation. This theme will be revisited and expanded on throughout the semester."
      ]
    },
    {
      "cell_type": "markdown",
      "id": "11",
      "metadata": {
        "id": "11"
      },
      "source": [
        "### Count Letters"
      ]
    },
    {
      "cell_type": "markdown",
      "id": "12",
      "metadata": {
        "id": "12"
      },
      "source": [
        "This simple problem is designed to reintroduce Python and demonstrate:\n",
        "\n",
        "- there are many ways to solve problems in Python\n",
        "- some are better and easier than others\n",
        "- the \"hard way\" is a necessary educational tool but Python provides alternatives for a reason\n",
        "\n",
        "Write three versions of a function that takes a string and returns the number of occurrences of each letter in it:\n",
        "\n",
        "1. `count_letters_v1` - use a list of lists where each inner list is `[letter, count]`\n",
        "2. `count_letters_v2` - use a dictionary, checking if keys exist before updating\n",
        "3. `count_letters_v3` - use dictionary's `.get()` method to simplify the logic\n",
        "\n",
        "Write your functions in the cell below."
      ]
    },
    {
      "cell_type": "code",
      "execution_count": null,
      "id": "13",
      "metadata": {
        "id": "13"
      },
      "outputs": [],
      "source": [
        "def count_letters_v1(text):\n",
        "    \"\"\"Return counts of each alphabetic letter (case-insensitive) as a list of [letter, count].\n",
        "\n",
        "    Uses a nested loop to maintain a list of [letter, count] pairs.\n",
        "    Only characters where ch.isalpha() is True are counted; text is lowercased first.\n",
        "    \"\"\"\n",
        "    result = []\n",
        "    for ch in text.lower():\n",
        "        if ch.isalpha():\n",
        "            for pair in result:\n",
        "                if pair[0] == ch:\n",
        "                    pair[1] += 1\n",
        "                    break\n",
        "            else:\n",
        "                result.append([ch, 1])\n",
        "    return result\n",
        "\n",
        "\n",
        "def count_letters_v2(text):\n",
        "    \"\"\"Return counts of each alphabetic letter (case-insensitive) as a dict letter: count.\n",
        "\n",
        "    Uses a single loop and checks key existence before updating.\n",
        "    Only alphabetic characters are counted.\n",
        "    \"\"\"\n",
        "    counts = {}\n",
        "    for ch in text.lower():\n",
        "        if ch.isalpha():\n",
        "            if ch in counts:\n",
        "                counts[ch] += 1\n",
        "            else:\n",
        "                counts[ch] = 1\n",
        "    return counts\n",
        "\n",
        "\n",
        "def count_letters_v3(text):\n",
        "    \"\"\"Return counts of each alphabetic letter (case-insensitive) as a dict letter: count.\n",
        "\n",
        "    Uses a single loop and the dict get method to simplify updates.\n",
        "    Only alphabetic characters are counted.\n",
        "    \"\"\"\n",
        "    counts = {}\n",
        "    for ch in text.lower():\n",
        "        if ch.isalpha():\n",
        "            counts[ch] = counts.get(ch, 0) + 1\n",
        "    return counts\n"
      ]
    },
    {
      "cell_type": "markdown",
      "id": "14",
      "metadata": {
        "id": "14"
      },
      "source": [
        "#### Tests"
      ]
    },
    {
      "cell_type": "markdown",
      "id": "15",
      "metadata": {
        "id": "15"
      },
      "source": [
        "Run the code below to test your implementation. If an error is detected, use the information provided to correct your function definition.\n",
        "\n",
        "**You must run the cell above each time you make changes to it (to create the function definition) before running these tests.**"
      ]
    },
    {
      "cell_type": "code",
      "execution_count": null,
      "id": "16",
      "metadata": {
        "colab": {
          "base_uri": "https://localhost:8080/"
        },
        "id": "16",
        "outputId": "3a29b28b-b85f-474c-8d7b-a7f86e199462"
      },
      "outputs": [
        {
          "output_type": "stream",
          "name": "stdout",
          "text": [
            "All tests passed!\n"
          ]
        }
      ],
      "source": [
        "def normalize_result(result):\n",
        "    \"\"\"Helper to compare different return types\"\"\"\n",
        "    if isinstance(result, list):\n",
        "        return {item[0]: item[1] for item in result}\n",
        "    return result\n",
        "\n",
        "\n",
        "test_cases = [\n",
        "    ('Hello World', {'h': 1, 'e': 1, 'l': 3, 'o': 2, 'w': 1, 'r': 1, 'd': 1}),\n",
        "    ('AAaaa', {'a': 5}),\n",
        "    ('123!@#', {}),  # No letters\n",
        "    ('', {}),  # Empty string\n",
        "]\n",
        "\n",
        "for text, expected in test_cases:\n",
        "    assert normalize_result(count_letters_v1(text)) == expected, f\"v1 failed on '{text}'\"\n",
        "    assert count_letters_v2(text) == expected, f\"v2 failed on '{text}'\"\n",
        "    assert count_letters_v3(text) == expected, f\"v3 failed on '{text}'\"\n",
        "\n",
        "print('All tests passed!')"
      ]
    },
    {
      "cell_type": "markdown",
      "id": "17",
      "metadata": {
        "id": "17"
      },
      "source": [
        "#### Interpretation"
      ]
    },
    {
      "cell_type": "markdown",
      "id": "18",
      "metadata": {
        "id": "18"
      },
      "source": [
        "Add a text / markdown cell below to describe the progression from v1 to v3. Which method do you prefer and why? Specifically, why are dictionaries better suited for this problem than lists, and what is the advantage of `.get()`?"
      ]
    },
    {
      "cell_type": "markdown",
      "source": [
        "Interpretation — v1 to v3\n",
        "\n",
        "v1 ([letter, count])\n",
        "• Loops a list of pairs and has a nested loop to find the letter each time.\n",
        "• Time complexity gets worse as each new character has the potential to scan the entire list (approx. O(n·k), where k = count of distinct letters).\n",
        "• A good choice for learning about conditionals and loops, but is verbose and more error-prone.\n",
        "\n",
        "v2 (dictionary with key check)\n",
        "• Transitions to a dictionary that searches for letter → count.\n",
        "• Every update is generally O(1): search if the key exists, then increment or add.\n",
        "• One pass over the text, less logic, and no nested loop.\n",
        "\n",
        "v3 (retrieve from dictionary)\n",
        "• Same idea as v2, but has counts.get(letter, 0) + 1.\n",
        "• Removes the if/else branch, so the update is one line and less prone to error.\n",
        "• Even still only one pass and O(1) updates on average.\n",
        "\n",
        "Which method I prefer and why\n",
        "I prefer v3 because it's readable, concise, and efficient. It gets across the meaning (count or start at zero) without a branch, so the code is easier to understand and maintain.\n",
        "\n",
        "Why dictionaries are a better fit to this problem than lists\n",
        "• The operation is \"look up a letter and increment its count,\" which is exactly a key-value mapping.\n",
        "• Direct key access is fast and repeated scans of a list approach are not needed.\n",
        "• The resulting code mirrors the mental model: for every letter, increment its own bucket.\n",
        "\n",
        "What .get() adds\n",
        "• Returns a default if a key is missing, so no existence test is needed separately.\n",
        "• Prevents KeyError and removes an if/else block, lowering cognitive load.\n",
        "• Maintains the update as one consistent action (read current or zero, then increment), which is both idiomatic and less prone to bugs."
      ],
      "metadata": {
        "id": "R0M1cG1sAIPB"
      },
      "id": "R0M1cG1sAIPB"
    },
    {
      "cell_type": "markdown",
      "id": "19",
      "metadata": {
        "id": "19"
      },
      "source": [
        "#### Follow-Up (Graduate Students)"
      ]
    },
    {
      "cell_type": "markdown",
      "id": "20",
      "metadata": {
        "id": "20"
      },
      "source": [
        "This part is for grad students only.\n",
        "\n",
        "Implement a fourth version of the solution using [`Collections.Counter` from the standard library](https://www.geeksforgeeks.org/python/counters-in-python-set-1/). Test your implementation as you did for v1-3."
      ]
    },
    {
      "cell_type": "code",
      "execution_count": null,
      "id": "21",
      "metadata": {
        "id": "21"
      },
      "outputs": [],
      "source": [
        "from collections import Counter\n",
        "\n",
        "def count_letters_v4(text):\n",
        "    \"\"\"Return counts of each alphabetic letter (case-insensitive) as a dictionary.\n",
        "\n",
        "    Uses collections.Counter over a generator expression to count only alphabetic characters.\n",
        "    \"\"\"\n",
        "    return dict(Counter(ch for ch in text.lower() if ch.isalpha()))"
      ]
    },
    {
      "cell_type": "code",
      "source": [
        "def normalize_result(result):\n",
        "    \"\"\"Helper to compare different return types\"\"\"\n",
        "    if isinstance(result, list):\n",
        "        return {item[0]: item[1] for item in result}\n",
        "    return result\n",
        "\n",
        "\n",
        "test_cases = [\n",
        "    ('Hello World', {'h': 1, 'e': 1, 'l': 3, 'o': 2, 'w': 1, 'r': 1, 'd': 1}),\n",
        "    ('AAaaa', {'a': 5}),\n",
        "    ('123!@#', {}),  # No letters\n",
        "    ('', {}),        # Empty string\n",
        "]\n",
        "\n",
        "for text, expected in test_cases:\n",
        "    assert normalize_result(count_letters_v1(text)) == expected, f\"v1 failed on '{text}'\"\n",
        "    assert count_letters_v2(text) == expected, f\"v2 failed on '{text}'\"\n",
        "    assert count_letters_v3(text) == expected, f\"v3 failed on '{text}'\"\n",
        "    assert count_letters_v4(text) == expected, f\"v4 failed on '{text}'\"\n",
        "\n",
        "print('All tests passed!')"
      ],
      "metadata": {
        "colab": {
          "base_uri": "https://localhost:8080/"
        },
        "id": "QuAw_JyiD9Bv",
        "outputId": "a510ed24-6ecd-4aef-9dd0-dddd2da01ff9"
      },
      "id": "QuAw_JyiD9Bv",
      "execution_count": null,
      "outputs": [
        {
          "output_type": "stream",
          "name": "stdout",
          "text": [
            "All tests passed!\n"
          ]
        }
      ]
    },
    {
      "cell_type": "markdown",
      "id": "22",
      "metadata": {
        "id": "22"
      },
      "source": [
        "### Extract Valid Data"
      ]
    },
    {
      "cell_type": "markdown",
      "id": "23",
      "metadata": {
        "id": "23"
      },
      "source": [
        "Create a function, `extract_valid_data`, that takes a list of lists containing an arbitrary mix of *only* `int`, `float`, and `str` data types, along with a `max_val` number. Return a list of the unique integer values less than `max_val`, sorted in ascending order. The default value of `max_val` is 10. For example, the following function call:\n",
        "\n",
        "```python\n",
        "lols = [[1, 'a', 50], [50, 101, -5], [25, 3.14]]\n",
        "extract_valid_data(lols, max_val=100)\n",
        "```\n",
        "\n",
        "should return\n",
        "\n",
        "```python\n",
        "[-5, 1, 25, 50]\n",
        "```\n",
        "\n",
        "To better understand how default arguments are used when defining and calling Python functions, review the first part of [this Geeks for Geeks article](https://www.geeksforgeeks.org/python/default-arguments-in-python/). The second part, about mutable defaults, is very important; we will revisit this topic later in the course.\n",
        "\n",
        "You will need to use either `type` or `isinstance` to identify objects of type `int` in your solution. Consult the Python documentation or use the built-in help (e.g. `help(isinstance)`) for more information.\n",
        "\n",
        "Write your function in the cell below."
      ]
    },
    {
      "cell_type": "code",
      "execution_count": null,
      "id": "24",
      "metadata": {
        "id": "24"
      },
      "outputs": [],
      "source": [
        "def extract_valid_data(lists, max_val=10):\n",
        "\n",
        "    \"\"\"Return a sorted list of unique integers less than max_val from a list of lists.\n",
        "\n",
        "    The input contains only int, float, or str. We count only true ints (exclude bools).\n",
        "    Args:\n",
        "        lists: List of lists with items of type int, float, or str.\n",
        "        max_val: Upper bound (exclusive) for valid integers. Default is 10.\n",
        "    Returns:\n",
        "        Sorted list of unique integers < max_val.\n",
        "    \"\"\"\n",
        "    unique_ints = set()\n",
        "    for sublist in lists:\n",
        "        for item in sublist:\n",
        "            # type(item) is int excludes booleans (since isinstance(True, int) is True)\n",
        "            if type(item) is int and item < max_val:\n",
        "                unique_ints.add(item)\n",
        "    return sorted(unique_ints)"
      ]
    },
    {
      "cell_type": "markdown",
      "id": "25",
      "metadata": {
        "id": "25"
      },
      "source": [
        "#### Tests"
      ]
    },
    {
      "cell_type": "markdown",
      "id": "26",
      "metadata": {
        "id": "26"
      },
      "source": [
        "Run the code below to test your implementation. If an error is detected, use the information provided to correct your function definition.\n",
        "\n",
        "**You must run the cell above each time you make changes to it (to create the function definition) before running these tests.**"
      ]
    },
    {
      "cell_type": "code",
      "execution_count": null,
      "id": "27",
      "metadata": {
        "colab": {
          "base_uri": "https://localhost:8080/"
        },
        "id": "27",
        "outputId": "7bf38c54-29ea-45c3-a72d-a475c300e569"
      },
      "outputs": [
        {
          "output_type": "stream",
          "name": "stdout",
          "text": [
            "All tests passed!\n"
          ]
        }
      ],
      "source": [
        "# Test 1: Basic example from problem description\n",
        "lols = [[1, 'a', 50], [50, 101, -5], [25, 3.14]]\n",
        "assert extract_valid_data(lols, max_val=100) == [-5, 1, 25, 50], 'Basic test failed'\n",
        "\n",
        "# Test 2: Default max value (10)\n",
        "data1 = [[1, 5, 15], [8, 12, 3], [5, 9, 10]]\n",
        "assert extract_valid_data(data1) == [1, 3, 5, 8, 9], 'Default max_val=10 test failed'\n",
        "\n",
        "# Test 3: No valid integers (all exceed max)\n",
        "data2 = [[100, 200], [150, 300]]\n",
        "assert extract_valid_data(data2, max_val=50) == [], 'No valid integers test failed'\n",
        "\n",
        "# Test 4: Duplicates should be removed\n",
        "data3 = [[1, 2, 3], [2, 3, 4], [3, 4, 5]]\n",
        "assert extract_valid_data(data3, max_val=10) == [1, 2, 3, 4, 5], 'Duplicate removal test failed'\n",
        "\n",
        "# Test 5: Mixed types - only integers should be included\n",
        "data4 = [[1, 2.0, '3'], [4.5, 5, 'six'], [7.0, 8, 9.9]]\n",
        "assert extract_valid_data(data4, max_val=10) == [1, 5, 8], 'Type filtering test failed'\n",
        "\n",
        "# Test 6: Negative numbers\n",
        "data5 = [[-5, -3, -1], [0, 1, 2]]\n",
        "assert extract_valid_data(data5, max_val=3) == [-5, -3, -1, 0, 1, 2], 'Negative numbers test failed'\n",
        "\n",
        "# Test 7: Single element sublists\n",
        "data6 = [[1], [2], [3], [2], [1]]\n",
        "assert extract_valid_data(data6, max_val=5) == [1, 2, 3], 'Single element test failed'\n",
        "\n",
        "# Test 8: Large max value\n",
        "data7 = [[1, 100, 1000], [50, 500, 5000]]\n",
        "assert extract_valid_data(data7, max_val=10000) == [1, 50, 100, 500, 1000, 5000], (\n",
        "    'Large max test failed'\n",
        ")\n",
        "\n",
        "# Test 9: Boundary case - values equal to max should be excluded\n",
        "data8 = [[8, 9, 10, 11], [10, 10, 10]]\n",
        "assert extract_valid_data(data8, max_val=10) == [8, 9], 'Boundary test failed (max_val=10)'\n",
        "\n",
        "print('All tests passed!')"
      ]
    },
    {
      "cell_type": "markdown",
      "id": "28",
      "metadata": {
        "id": "28"
      },
      "source": [
        "#### Interpretation"
      ]
    },
    {
      "cell_type": "markdown",
      "id": "29",
      "metadata": {
        "id": "29"
      },
      "source": [
        "Add a text / markdown cell below to explain how the test code works. In particular, what does `assert` do here? Are you surprised by the number of tests required to fully check the solution?"
      ]
    },
    {
      "cell_type": "markdown",
      "source": [
        "Interpretation — testing code behavior\n",
        "\n",
        "Role of the Helper\n",
        "• normalize_result converts v1's pairs to a dictionary for consistent version comparison.\n",
        "• It is returned unchanged if the answer is a dictionary (v2, v3).\n",
        "• It enables a single statement to directly compare varying types of returns.\n",
        "\n",
        "What the test cases demonstrate\n",
        "• \"Hello World\" mixed-case input validation and case-insensitive count confirmation.\n",
        "• \"AAaaa\" checks that upper and lower case collapse to the same letter and that totals aggregate correctly.\n",
        "• \"123!@#\" ensures non-letters are ignored.\n",
        "• Empty string checks ensure functions return empty results without errors.\n",
        "\n",
        "What assert does.\n",
        "• assert <condition>, \"message\" stops if False and raises an AssertionError with the message.\n",
        "• Each assert in these tests compares the function’s output to the expected dictionary.\n",
        "• It passes the test quietly if it is a match; otherwise, you will see what failed and the input.\n",
        "\n",
        "Why is the loop used?\n",
        "• The for loop verifies each (text, expected) tuple. • Each function is run with each case such that each failure denotes the version (v1, v2, v3, v4) and the exact input it failed.\n",
        "\n",
        "Are there enough testing? • They are reasonable \"smoke tests\" for typical letters, case folding, non-letters, and null input. • A complete suite would have other edge cases, including one repeated letter strings, long strings, all distinct letters, accented or non-ASCII alphabet, whitespace dominating strings, and letter-punctuation combination. In actual development projects, we need more tests for increased confidence. These four are an absolute minimal baseline to catch usual mistakes, but complete correctness needs a larger set."
      ],
      "metadata": {
        "id": "qsHxCKxVue-z"
      },
      "id": "qsHxCKxVue-z"
    },
    {
      "cell_type": "markdown",
      "id": "30",
      "metadata": {
        "id": "30"
      },
      "source": [
        "#### Follow-Up (Graduate Students)"
      ]
    },
    {
      "cell_type": "markdown",
      "id": "31",
      "metadata": {
        "id": "31"
      },
      "source": [
        "This part is for grad students only.\n",
        "\n",
        "Rewrite this function as a single list comprehension.\n",
        "\n",
        "Is the result more or less easy to read than your original implementation? What does this tell you about when comprehensions are best used, in practice?"
      ]
    },
    {
      "cell_type": "code",
      "execution_count": null,
      "id": "32",
      "metadata": {
        "id": "32"
      },
      "outputs": [],
      "source": [
        "# Single list-comprehension solution (dedupe via a tiny seen set)\n",
        "def extract_valid_data(lists, max_val=10):\n",
        "    \"\"\"\n",
        "    Return a sorted list of unique integers < max_val from a list of lists.\n",
        "    Uses one list comprehension for the result; a small 'seen' set prevents duplicates.\n",
        "    Excludes booleans (since bool is a subclass of int) by using type(x) is int.\n",
        "    \"\"\"\n",
        "    seen = set()\n",
        "    return sorted([\n",
        "        item\n",
        "        for sublist in lists\n",
        "        for item in sublist\n",
        "        if (type(item) is int) and (item < max_val) and (item not in seen and not seen.add(item))\n",
        "    ])"
      ]
    },
    {
      "cell_type": "markdown",
      "source": [
        "It’s compact, but less readable than a small for-loop because it hides the “remember what we’ve seen” state inside the condition (the not seen.add(item) trick relies on add returning None).\n",
        "\n",
        "In practice, comprehensions are best when you’re doing simple, linear filtering/mapping with no side effects or hidden state.\n",
        "\n",
        "If you need state (like deduplication) or multiple steps, a short loop (or a set comprehension plus sorted) is usually clearer for collaborators."
      ],
      "metadata": {
        "id": "mL-60xAm5Lwc"
      },
      "id": "mL-60xAm5Lwc"
    },
    {
      "cell_type": "markdown",
      "id": "33",
      "metadata": {
        "id": "33"
      },
      "source": [
        "### Data Cleaning"
      ]
    },
    {
      "cell_type": "markdown",
      "id": "34",
      "metadata": {
        "id": "34"
      },
      "source": [
        "Create a function, `clean_record`, that takes a dictionary and returns a cleaned version of the same. Each `dict` consists of four key:value pairs. All keys are strings and the expected type of each value is specified below:\n",
        "\n",
        "- 'name': str\n",
        "- 'age': int\n",
        "- 'email': str\n",
        "- 'score': float\n",
        "\n",
        "To clean each record, your function should:\n",
        "\n",
        "- convert all keys to lowercase\n",
        "- convert all age and score values to integer or float values, as specified\n",
        "- validate that age is positive and less than 100, if not, replace value with `None` and print a warning message\n",
        "- round score to a single digit of precision using `round(val, 1)`\n",
        "- convert name to \"Last, First\" format\n",
        "  - you can assume that all names come in \"First Middle Last\" format, but middle is optional\n",
        "  - you can also assume that the names will not include titles (e.g. \"Dr.\", suffixes (e.g. \"Jr.\"), multi-word last names (e.g. \"Van Buren\"), etc.\n",
        "- return the cleaned version\n",
        "\n",
        "Note: Python's `round` function uses Banker's Rounding, which can lead to unexpected results. See [this article for additional background / details](https://medium.com/@akhilnathe/understanding-pythons-round-function-from-basics-to-bankers-b64e7dd73477).\n",
        "\n",
        "You may assume there are no missing keys in the data.\n",
        "\n",
        "Write your function in the cell below."
      ]
    },
    {
      "cell_type": "code",
      "execution_count": null,
      "id": "35",
      "metadata": {
        "id": "35"
      },
      "outputs": [],
      "source": [
        "def clean_record(record):\n",
        "\n",
        "    \"\"\"Clean a single record dict with keys Name/Age/Email/Score (any case).\n",
        "\n",
        "    - Keys are lowercased in the output.\n",
        "    - Age is converted to int; if not in 1..99, set to None and print a warning.\n",
        "    - Score is converted to float and rounded to 1 decimal using round(val, 1).\n",
        "    - Name is converted from 'First [Middle] Last' to 'Last, First'.\n",
        "    - Email is preserved as a string.\n",
        "    \"\"\"\n",
        "    # Normalize keys to lowercase\n",
        "    rec = {str(k).lower(): v for k, v in record.items()}\n",
        "\n",
        "    # --- Name: 'First [Middle] Last' -> 'Last, First'\n",
        "    name_raw = rec.get('name', '')\n",
        "    parts = str(name_raw).strip().split()\n",
        "    if len(parts) >= 2:\n",
        "        first = parts[0]\n",
        "        last = parts[-1]\n",
        "        name_clean = f\"{last}, {first}\"\n",
        "    else:\n",
        "        # Fallback if name is malformed\n",
        "        name_clean = str(name_raw).strip()\n",
        "\n",
        "    # --- Age: to int; validate 1..99 else None with warning\n",
        "    age_raw = rec.get('age')\n",
        "\n",
        "    def _to_int(value):\n",
        "        if isinstance(value, int):\n",
        "            return value\n",
        "        if isinstance(value, float):\n",
        "            try:\n",
        "                return int(value)\n",
        "            except (ValueError, OverflowError):\n",
        "                return None\n",
        "        if isinstance(value, str):\n",
        "            s = value.strip()\n",
        "            try:\n",
        "                if s.isdigit() or (s and s[0] in '+-' and s[1:].isdigit()):\n",
        "                    return int(s)\n",
        "                else:\n",
        "                    return int(float(s))\n",
        "            except (ValueError, OverflowError):\n",
        "                return None\n",
        "        return None\n",
        "\n",
        "    age_val = _to_int(age_raw)\n",
        "    if age_val is None or not (0 < age_val < 100):\n",
        "        print(f\"Warning: invalid age {age_raw!r}; setting to None\")\n",
        "        age_clean = None\n",
        "    else:\n",
        "        age_clean = age_val\n",
        "\n",
        "    # --- Score: to float; round to 1 decimal\n",
        "    score_raw = rec.get('score')\n",
        "\n",
        "    def _to_float(value):\n",
        "        if isinstance(value, float):\n",
        "            return value\n",
        "        if isinstance(value, int):\n",
        "            return float(value)\n",
        "        if isinstance(value, str):\n",
        "            s = value.strip()\n",
        "            try:\n",
        "                return float(s)\n",
        "            except (ValueError, OverflowError):\n",
        "                return None\n",
        "        return None\n",
        "\n",
        "    score_val = _to_float(score_raw)\n",
        "    score_clean = round(score_val, 1) if score_val is not None else None\n",
        "\n",
        "    # --- Email: keep as string\n",
        "    email_raw = rec.get('email')\n",
        "    email_clean = None if email_raw is None else str(email_raw)\n",
        "\n",
        "    return {\n",
        "        'name': name_clean,\n",
        "        'age': age_clean,\n",
        "        'email': email_clean,\n",
        "        'score': score_clean,\n",
        "    }\n"
      ]
    },
    {
      "cell_type": "markdown",
      "id": "36",
      "metadata": {
        "id": "36"
      },
      "source": [
        "#### Tests"
      ]
    },
    {
      "cell_type": "markdown",
      "id": "37",
      "metadata": {
        "id": "37"
      },
      "source": [
        "Run the code below to test your implementation. If an error is detected (the output doesn't match the expected value for any of the 8 tests), use the information provided to correct your function definition.\n",
        "\n",
        "**You must run the cell above each time you make changes to it (to create the function definition) before running these tests.**"
      ]
    },
    {
      "cell_type": "code",
      "execution_count": null,
      "id": "38",
      "metadata": {
        "colab": {
          "base_uri": "https://localhost:8080/"
        },
        "id": "38",
        "outputId": "a9956cd7-34db-464e-9b92-71e36ad09a62"
      },
      "outputs": [
        {
          "output_type": "stream",
          "name": "stdout",
          "text": [
            "Warning: invalid age '150'; setting to None\n",
            "All tests pass!\n"
          ]
        }
      ],
      "source": [
        "### DO NOT CHANGE THE CODE IN THIS CELL\n",
        "\n",
        "# Test data for clean_records function\n",
        "\n",
        "test_input = [\n",
        "    {\n",
        "        'name': 'John Doe',\n",
        "        'age': '25',\n",
        "        'email': 'john@email.com',\n",
        "        'score': '87.456',\n",
        "    },\n",
        "    {\n",
        "        'NAME': 'Mary Jane Smith',\n",
        "        'AGE': '30',\n",
        "        'EMAIL': 'mj@email.com',\n",
        "        'SCORE': '92.149',\n",
        "    },\n",
        "    {\n",
        "        'Name': 'Bob Wilson',\n",
        "        'Age': 42,\n",
        "        'Email': 'bob@test.com',\n",
        "        'Score': 81.951,\n",
        "    },\n",
        "    {\n",
        "        'name': 'Anna Chen',\n",
        "        'age': '1',\n",
        "        'email': 'anna@email.com',\n",
        "        'score': '95.678',\n",
        "    },\n",
        "    {\n",
        "        'name': 'Senior Citizen',\n",
        "        'age': '99',\n",
        "        'email': 'senior@test.com',\n",
        "        'score': 73.2,\n",
        "    },\n",
        "    {\n",
        "        'NAME': 'Charlie Brown',\n",
        "        'AGE': 19,\n",
        "        'EMAIL': 'charlie@test.com',\n",
        "        'SCORE': '90.5',\n",
        "    },\n",
        "    {\n",
        "        'name': 'Jennifer Anne Marie Thompson',\n",
        "        'age': '31',\n",
        "        'email': 'jamt@email.com',\n",
        "        'score': '88.8',\n",
        "    },\n",
        "    {\n",
        "        'Name': 'Carlos Rodriguez',\n",
        "        'Age': '28',\n",
        "        'Email': 'carlos@email.com',\n",
        "        'Score': 100,\n",
        "    },\n",
        "    {\n",
        "        'name': 'Invalid Age',\n",
        "        'age': '150',\n",
        "        'email': 'invalid@test.com',\n",
        "        'score': '80.0',\n",
        "    },\n",
        "]\n",
        "\n",
        "test_expected = [\n",
        "    {'name': 'Doe, John', 'age': 25, 'email': 'john@email.com', 'score': 87.5},\n",
        "    {'name': 'Smith, Mary', 'age': 30, 'email': 'mj@email.com', 'score': 92.1},\n",
        "    {'name': 'Wilson, Bob', 'age': 42, 'email': 'bob@test.com', 'score': 82.0},\n",
        "    {'name': 'Chen, Anna', 'age': 1, 'email': 'anna@email.com', 'score': 95.7},\n",
        "    {'name': 'Citizen, Senior', 'age': 99, 'email': 'senior@test.com', 'score': 73.2},\n",
        "    {'name': 'Brown, Charlie', 'age': 19, 'email': 'charlie@test.com', 'score': 90.5},\n",
        "    {'name': 'Thompson, Jennifer', 'age': 31, 'email': 'jamt@email.com', 'score': 88.8},\n",
        "    {'name': 'Rodriguez, Carlos', 'age': 28, 'email': 'carlos@email.com', 'score': 100.0},\n",
        "    {'name': 'Age, Invalid', 'age': None, 'email': 'invalid@test.com', 'score': 80.0},\n",
        "]\n",
        "\n",
        "# run tests to ensure output matches expected for each given input\n",
        "\n",
        "for idx, data in enumerate(test_input):\n",
        "    expected = test_expected[idx]\n",
        "    actual = clean_record(data)\n",
        "\n",
        "    # Check if dictionaries match\n",
        "    if actual != expected:\n",
        "        # Find which fields don't match\n",
        "        for key in expected:\n",
        "            if actual.get(key) != expected[key]:\n",
        "                assert False, (\n",
        "                    f\"Test {idx + 1} failed on field '{key}': expected {expected[key]}, got {actual.get(key)}\"\n",
        "                )\n",
        "\n",
        "print('All tests pass!')"
      ]
    },
    {
      "cell_type": "markdown",
      "id": "39",
      "metadata": {
        "id": "39"
      },
      "source": [
        "#### Interpretation"
      ]
    },
    {
      "cell_type": "markdown",
      "id": "40",
      "metadata": {
        "id": "40"
      },
      "source": [
        "Add a text / markdown cell below to explain how the test code works. In particular, look up the `enumerate` function and `dict.get()` method. Consider how the equivalent would be written without them - how do those features simplify this implementation?\n",
        "\n",
        "Also, what does `assert` do here and how else could it be in other testing situations?"
      ]
    },
    {
      "cell_type": "markdown",
      "source": [
        "Interpretation — how the test code works (enumerate, dict.get, and assert)\n",
        "\n",
        "What the loop is doing\n",
        "• It walks through the input records and the expected results in lockstep.\n",
        "• For each index i and record, it runs clean_record(record) to get actual, then compares actual to test_expected[i].\n",
        "• If they differ, it checks each key to report exactly which field failed.\n",
        "\n",
        "Why enumerate is used\n",
        "• enumerate(test_input) gives both the index (i) and the item (record) at the same time.\n",
        "• Without enumerate you’d need extra boilerplate, for example: keep a manual counter (i = 0; …; i += 1) or loop over a numeric range (for i in range(len(test_input))) just to retrieve test_expected[i].\n",
        "• Using enumerate removes that clutter and makes the intent clear: you need both the item and its position.\n",
        "\n",
        "Why dict.get is used\n",
        "• actual.get(key) safely returns the value for key, or None if the key is missing.\n",
        "• In the error path, this avoids a KeyError and allows a clean failure message (which test, which field, expected vs. actual).\n",
        "• Without dict.get you’d write if key in actual: value = actual[key] else: value = None, which is more verbose and easier to get wrong.\n",
        "\n",
        "What assert does here\n",
        "• assert condition, message immediately stops the test when condition is false, raising an AssertionError with the given message.\n",
        "• In this test, if any field doesn’t match, assert is triggered with a clear message indicating the failing test number and field.\n",
        "\n",
        "How else assert can be used in testing\n",
        "• Pytest: simply write assert actual == expected and let pytest show a rich diff; to test errors, use with pytest.raises(SomeError): call().\n",
        "• Unittest (xUnit style): use self.assertEqual, self.assertDictEqual, self.assertRaises for clearer intent and built-in reporting.\n",
        "• Property-based testing (Hypothesis): generate many randomized inputs and assert general properties (for example, ages are None or between 1 and 99).\n",
        "• Note: asserts can be stripped when running Python with optimization flags; for production input validation, prefer explicit checks and raise descriptive exceptions (e.g., ValueError)."
      ],
      "metadata": {
        "id": "hf6uq26hNsEb"
      },
      "id": "hf6uq26hNsEb"
    },
    {
      "cell_type": "markdown",
      "source": [
        "What the loop does: It iterates over test_input and test_expected in parallel, applies clean_record to both input, and checks the result against the corresponding expected dict. If they are not equal, it identifies what field was incorrect.\n",
        "\n",
        "• Why enumerate: It provides index and item both at once, so that the code can retrieve the corresponding expected record by index without an explicit counter or additional range/zip functionality.\n",
        "\n",
        "• Why dict.get: It retrieves a value safely (returns None if missing) so the failure message can be built without risking a KeyError. Without get, you’d need if key in actual before accessing actual[key].\n",
        "\n",
        "• What it does: It's a guard that stops the run with an AssertionError (and an understandable message) if something is not valid. Otherwise, you would use pytest's simple assert with rich diffs, unittest's assertEqual/assertDictEqual, or property-based tests with Hypothesis.\n",
        "\n",
        "• Relation to your function: Your clean_record also uses get for safe accesses (name, age, score, email), which follows the method of your test: safer access, clearer error, less crash.\n",
        "\n",
        "Bottom line: enumerate and dict.get save boilerplate and prevent superfluous errors, and assert provides prompt, explicit failure messages—overall making the tests more convenient and informative."
      ],
      "metadata": {
        "id": "sYUEzvTzM8ep"
      },
      "id": "sYUEzvTzM8ep"
    },
    {
      "cell_type": "markdown",
      "id": "41",
      "metadata": {
        "id": "41"
      },
      "source": [
        "#### Follow-Up (Graduate Students)"
      ]
    },
    {
      "cell_type": "markdown",
      "id": "42",
      "metadata": {
        "id": "42"
      },
      "source": [
        "This part is for grad students only.\n",
        "\n",
        "Explain in a text / markdown cell below how your approach would have to change if you could not assume each record was complete (all four keys present).\n",
        "\n",
        "Sketch out the code change required. You can include (non-running) code blocks in markdown cells as shown below (edit this cell to see the formatting). This does not have to run, it is for communication purposes only.\n",
        "\n"
      ]
    },
    {
      "cell_type": "markdown",
      "source": [
        "**Follow-Up (Graduate) — handling incomplete records**\n",
        "\n",
        "If we can’t assume each record has all four keys, the cleaning function must be defensive and schema-preserving:\n",
        "\n",
        "Always return the full schema with keys name, age, email, score, even if some values end up as None. This keeps downstream code (e.g., DataFrame creation, aggregations) stable.\n",
        "\n",
        "Use safe lookups with dict.get and graceful defaults:\n",
        "\n",
        "Missing name → None (or leave as raw string if present but malformed).\n",
        "\n",
        "Missing age → None and print a warning (as with invalid ages).\n",
        "\n",
        "Missing score → None.\n",
        "\n",
        "Missing email → None.\n",
        "\n",
        "Parsing stays best-effort: attempt conversion; on failure or invalid range, set to None.\n",
        "\n",
        "Keep the “Last, First” format if a name is present and has at least two parts; otherwise return the raw name (or None) rather than guessing."
      ],
      "metadata": {
        "id": "V5QlRDxwO2Di"
      },
      "id": "V5QlRDxwO2Di"
    },
    {
      "cell_type": "code",
      "source": [
        "#Sketch of the code change (communication only; does not have to run)\n",
        "# code blocks are denoted in markdown with three backticks before and after\n",
        "print(\"This is a markdown code block.\")\n",
        "def clean_record(record):\n",
        "    # 1) Normalize keys to lowercase (ignore unexpected keys, if any)\n",
        "    rec = {str(k).lower(): v for k, v in record.items()}\n",
        "\n",
        "    # 2) Name: handle missing or malformed\n",
        "    name_raw = rec.get('name', None)\n",
        "    if isinstance(name_raw, str):\n",
        "        parts = name_raw.strip().split()\n",
        "        if len(parts) >= 2:\n",
        "            first = parts[0]\n",
        "            last = parts[-1]\n",
        "            name_clean = f\"{last}, {first}\"\n",
        "        else:\n",
        "            # If only one part or empty, keep as-is (or set to None by policy)\n",
        "            name_clean = name_raw.strip() if name_raw.strip() else None\n",
        "    else:\n",
        "        name_clean = None\n",
        "\n",
        "    # 3) Age: best-effort to int; if missing/invalid/out-of-range -> None + warning\n",
        "    age_raw = rec.get('age', None)\n",
        "    age_clean = None\n",
        "    if age_raw is not None:\n",
        "        age_clean = _to_int(age_raw)  # same helper as before\n",
        "        if age_clean is None or not (0 < age_clean < 100):\n",
        "            print(f\"Warning: invalid or missing age {age_raw!r}; setting to None\")\n",
        "            age_clean = None\n",
        "    else:\n",
        "        print(\"Warning: age missing; setting to None\")\n",
        "\n",
        "    # 4) Score: best-effort to float then round(…, 1); missing -> None\n",
        "    score_raw = rec.get('score', None)\n",
        "    if score_raw is not None:\n",
        "        val = _to_float(score_raw)    # same helper as before\n",
        "        score_clean = round(val, 1) if val is not None else None\n",
        "    else:\n",
        "        score_clean = None\n",
        "\n",
        "    # 5) Email: coerce to str if present; else None\n",
        "    email_raw = rec.get('email', None)\n",
        "    email_clean = str(email_raw).strip() if email_raw is not None else None\n",
        "\n",
        "    # 6) Return a schema-stable dict (all four keys present)\n",
        "    return {\n",
        "        'name':  name_clean,\n",
        "        'age':   age_clean,\n",
        "        'email': email_clean,\n",
        "        'score': score_clean,\n",
        "    }\n",
        "\n",
        "# Helpers (same idea as in the original solution)\n",
        "def _to_int(value):\n",
        "    # int, float, or strings like '25' / '25.0' -> int, else None\n",
        "    ...\n",
        "\n",
        "def _to_float(value):\n",
        "    # float, int, or numeric string -> float, else None\n",
        "    ...\n"
      ],
      "metadata": {
        "colab": {
          "base_uri": "https://localhost:8080/"
        },
        "id": "RBEywJPTOavh",
        "outputId": "672a21aa-f4df-41ea-ad5a-8a3662979fde"
      },
      "id": "RBEywJPTOavh",
      "execution_count": null,
      "outputs": [
        {
          "output_type": "stream",
          "name": "stdout",
          "text": [
            "This is a markdown code block.\n"
          ]
        }
      ]
    },
    {
      "cell_type": "markdown",
      "id": "43",
      "metadata": {
        "id": "43"
      },
      "source": [
        "### Implement a Simplified `zip()`"
      ]
    },
    {
      "cell_type": "markdown",
      "id": "44",
      "metadata": {
        "id": "44"
      },
      "source": [
        "Create a function, `simple_zip` that emulates some functionality of the `zip` function included with base Python:\n",
        "\n",
        "```bash\n",
        "> help(zip)\n",
        "Help on class zip in module builtins:\n",
        "\n",
        "class zip(object)\n",
        " |  zip(*iterables, strict=False)\n",
        " |\n",
        " |  The zip object yields n-length tuples, where n is the number of iterables\n",
        " |  passed as positional arguments to zip().  The i-th element in every tuple\n",
        " |  comes from the i-th iterable argument to zip().  This continues until the\n",
        " |  shortest argument is exhausted.\n",
        " |\n",
        " |  If strict is true and one of the arguments is exhausted before the others,\n",
        " |  raise a ValueError.\n",
        " |\n",
        " |     >>> list(zip('abcdefg', range(3), range(4)))\n",
        " |     [('a', 0, 0), ('b', 1, 1), ('c', 2, 2)]\n",
        "```\n",
        "\n",
        "Python's version creates a *generator* object that produces values as needed rather than all at once. Your solution should return a list of tuples instead. For example, the following function call:\n",
        "\n",
        "```python\n",
        "it1 = [1, 2, 3]\n",
        "it2 = ['a', 'b', 'c']\n",
        "simple_zip(it1, it2)\n",
        "```\n",
        "\n",
        "should return\n",
        "\n",
        "```python\n",
        "[(1, 'a'), (2, 'b'), (3, 'c')]\n",
        "```\n",
        "\n",
        "Do not implement the `strict` argument. Instead, emulate the default behavior of `zip`: if the iterables are of differing lengths, stop when the shortest one is exhausted.\n",
        "\n",
        "Note that the first argument in `zip` is `*iterables`, allowing it to accept any number of iterables. When you use `*VARIABLE_NAME` in this fashion, Python automatically collects all the positional arguments into a tuple called `VARIABLE_NAME` (e.g. `iterables`). It is your responsibility to extract individual arguments from the resulting tuple. The following code block demonstrates this for clarity."
      ]
    },
    {
      "cell_type": "code",
      "execution_count": null,
      "id": "45",
      "metadata": {
        "id": "45"
      },
      "outputs": [],
      "source": [
        "def example(*vars):\n",
        "    # return vars as constructed by Python from the user's arguments\n",
        "    return vars\n",
        "\n",
        "\n",
        "var1 = 'first argument'\n",
        "var2 = 'second argument'\n",
        "result = example(var1, var2)\n",
        "\n",
        "# inspect results\n",
        "print(result)  # ('first argument', 'second argument')\n",
        "print(result[0])  # 'first argument'"
      ]
    },
    {
      "cell_type": "markdown",
      "id": "46",
      "metadata": {
        "id": "46"
      },
      "source": [
        "Write your function in the cell below."
      ]
    },
    {
      "cell_type": "code",
      "execution_count": null,
      "id": "47",
      "metadata": {
        "id": "47"
      },
      "outputs": [],
      "source": [
        "def simple_zip(*iterables):\n",
        "    \"\"\"Return a list of tuples where the i-th tuple contains the i-th elements\n",
        "    of each passed iterable. Stop at the shortest iterable (like built-in zip).\n",
        "\n",
        "    Examples:\n",
        "        simple_zip([1,2,3], ['a','b','c']) -> [(1,'a'), (2,'b'), (3,'c')]\n",
        "        simple_zip([1,2], ['x','y','z'])   -> [(1,'x'), (2,'y')]\n",
        "        simple_zip([1,2,3])                -> [(1,), (2,), (3,)]\n",
        "        simple_zip()                       -> []\n",
        "    \"\"\"\n",
        "    iters = [iter(it) for it in iterables]\n",
        "    result = []\n",
        "    if not iters:\n",
        "        return result\n",
        "\n",
        "    while True:\n",
        "        row = []\n",
        "        try:\n",
        "            for it in iters:\n",
        "                row.append(next(it))\n",
        "        except StopIteration:\n",
        "            break\n",
        "        result.append(tuple(row))\n",
        "    return result\n"
      ]
    },
    {
      "cell_type": "markdown",
      "id": "48",
      "metadata": {
        "id": "48"
      },
      "source": [
        "#### Tests"
      ]
    },
    {
      "cell_type": "markdown",
      "id": "49",
      "metadata": {
        "id": "49"
      },
      "source": [
        "Run the code below to test your implementation. If an error is detected, use the information provided to correct your function definition.\n",
        "\n",
        "**You must run the cell above each time you make changes to it (to create the function definition) before running these tests.**"
      ]
    },
    {
      "cell_type": "code",
      "execution_count": null,
      "id": "50",
      "metadata": {
        "colab": {
          "base_uri": "https://localhost:8080/"
        },
        "id": "50",
        "outputId": "9f84e875-97a1-4084-c4eb-cd377ce39feb"
      },
      "outputs": [
        {
          "output_type": "stream",
          "name": "stdout",
          "text": [
            "All tests passed!\n"
          ]
        }
      ],
      "source": [
        "# Basic test cases\n",
        "assert simple_zip([1, 2], ['a', 'b']) == [(1, 'a'), (2, 'b')], 'Basic test failed'\n",
        "assert simple_zip([1, 2, 3], ['a', 'b']) == [(1, 'a'), (2, 'b')], \"Doesn't stop at shortest\"\n",
        "\n",
        "# Multiple iterables\n",
        "assert simple_zip([1, 2], ['a', 'b'], [10, 20]) == [(1, 'a', 10), (2, 'b', 20)], (\n",
        "    \"Doesn't handle >2 iterables\"\n",
        ")\n",
        "\n",
        "# Different types of iterables\n",
        "assert simple_zip('abc', [1, 2, 3]) == [('a', 1), ('b', 2), ('c', 3)], \"Doesn't handle mixed types\"\n",
        "assert simple_zip(range(3), 'xyz') == [(0, 'x'), (1, 'y'), (2, 'z')], (\n",
        "    \"Doesn't handle other iterable types\"\n",
        ")\n",
        "\n",
        "print('All tests passed!')"
      ]
    },
    {
      "cell_type": "markdown",
      "id": "51",
      "metadata": {
        "id": "51"
      },
      "source": [
        "#### Interpretation"
      ]
    },
    {
      "cell_type": "markdown",
      "id": "52",
      "metadata": {
        "id": "52"
      },
      "source": [
        "Add a text / markdown cell below to discuss how you might make your code more concise and/or readable by using list comprehensions. If you already used them in your solution, describe why you chose that approach.\n",
        "\n",
        "Also, what tests have we overlooked? What are we assuming about the input that might cause a crash when this function is called?"
      ]
    },
    {
      "cell_type": "markdown",
      "source": [
        "**simple_zip interpretation**\n",
        "\n",
        "• List comprehensions can only reduce the solution to one line if the inputs are indexable sequences (provide len and [i]). That one is shorter but not as general.\n",
        "\n",
        "• The small while/try/except loop is more readable and works for any iterable (lists, tuples, ranges, generators), finishing cleanly on the shortest—like built-in zip.\n",
        "\n",
        "**Tests that need to be added:**\n",
        "• No inputs → []; single iterable → [(x,), …].\n",
        "• Different lengths, one of which is an empty iterable.\n",
        "• Combination of differing iterable types (list + generator, tuple + range).\n",
        "• Strings as iterables (should that be allowed or not).\n",
        "• A long, even infinitely long iterable with a brief finite iterable (should truncate at the short one and not hang).\n",
        "\n",
        "**Assumptions which may break**\n",
        "• Non-iterable arguments (None, an int) will raise TypeError when converting through iter.\n",
        "• Iterators are exhausted; reusing the same iterator won't \"restart\" it.\n",
        "• If an iterator raises some exception other than StopIteration, it will propagate"
      ],
      "metadata": {
        "id": "C2odrkxtUZNI"
      },
      "id": "C2odrkxtUZNI"
    },
    {
      "cell_type": "markdown",
      "id": "53",
      "metadata": {
        "id": "53"
      },
      "source": [
        "#### Follow-Up (Graduate Students)"
      ]
    },
    {
      "cell_type": "markdown",
      "id": "54",
      "metadata": {
        "id": "54"
      },
      "source": [
        "Read more about [generator objects](https://realpython.com/introduction-to-python-generators/). Then run the following code, noting the included comments."
      ]
    },
    {
      "cell_type": "code",
      "execution_count": null,
      "id": "55",
      "metadata": {
        "colab": {
          "base_uri": "https://localhost:8080/"
        },
        "id": "55",
        "outputId": "b2b63d1e-c25e-47b7-a4b7-2c007421906e"
      },
      "outputs": [
        {
          "output_type": "stream",
          "name": "stdout",
          "text": [
            "<zip object at 0x790499727700>\n",
            "[(1, 'a'), (2, 'b'), (3, 'c')]\n",
            "[]\n",
            "[(1, 'a'), (2, 'b'), (3, 'c')]\n",
            "[(1, 'a'), (2, 'b'), (3, 'c')]\n"
          ]
        }
      ],
      "source": [
        "# Python's built-in zip returns a generator-like object\n",
        "result1 = zip([1, 2, 3], ['a', 'b', 'c'])\n",
        "print(result1)  # What do you see?\n",
        "print(list(result1))  # Convert to list\n",
        "print(list(result1))  # Try again - what happens?\n",
        "\n",
        "# Your simple_zip returns a list\n",
        "result2 = simple_zip([1, 2, 3], ['a', 'b', 'c'])\n",
        "print(result2)  # What do you see?\n",
        "print(result2)  # Try again - what happens?"
      ]
    },
    {
      "cell_type": "markdown",
      "id": "56",
      "metadata": {
        "id": "56"
      },
      "source": [
        "Based on your reading and the code above:\n",
        "\n",
        "- What's the key difference between a generator and a list?\n",
        "- Why might Python's zip return a generator instead of a list?\n",
        "- Name one advantage and one disadvantage of generators vs lists."
      ]
    },
    {
      "cell_type": "markdown",
      "source": [
        "what each line shows\n",
        "\n",
        "<zip object at 0x790499727700>\n",
        "zip returns an iterator (generator-like), not a list.\n",
        "\n",
        "[(1, 'a'), (2, 'b'), (3, 'c')]\n",
        "converting the iterator to a list consumes it and shows the pairs.\n",
        "\n",
        "[]\n",
        "the iterator is now exhausted; a second conversion yields nothing.\n",
        "\n",
        "[(1, 'a'), (2, 'b'), (3, 'c')]\n",
        "your simple_zip returns a real list, so you see the data.\n",
        "\n",
        "[(1, 'a'), (2, 'b'), (3, 'c')]\n",
        "lists persist; printing again shows the same data.\n",
        "\n",
        "answers (short + to the point)\n",
        "• key difference: generators/iterators are lazy, single-pass streams (don’t store items); lists are eager, stored collections (support len, indexing, multiple passes).\n",
        "• why zip is a generator: efficiency and composability—no upfront memory cost, works with very large/infinite sources, and chains well with other iterator tools.\n",
        "• one advantage of generators: memory-efficient and fast to start producing values.\n",
        "• one disadvantage of generators: one-shot and no random access; if you need to reuse or index results, you must materialize them (e.g., convert to a list)."
      ],
      "metadata": {
        "id": "Xgrqh5BnVD-U"
      },
      "id": "Xgrqh5BnVD-U"
    },
    {
      "cell_type": "markdown",
      "id": "57",
      "metadata": {
        "id": "57"
      },
      "source": [
        "## Reflection"
      ]
    },
    {
      "cell_type": "markdown",
      "id": "58",
      "metadata": {
        "id": "58"
      },
      "source": [
        "Address the following (concise bullets or short paragraphs are fine):\n",
        "\n",
        "1. Key takeaway\n",
        "   - What part of this assignment most surprised you or led to the most significant improvement in your Python understanding?\n",
        "   - Include a concrete before/after to illustrate how this assignment has changed your approach to problem solving, syntax, styling, or other implementational details as a result of this assignment.\n",
        "2. GenAI use\n",
        "   - If used, specify the tool / model used, how you used it, how you verified correctness, and how it was most helpful (breadth / depth of understanding, quality of code, time to completion, etc.). Note any limits or problems you observed and how you mitigated them.\n",
        "   - If not, why and when do you expect to use it in this course, if at all?\n",
        "3. Feedback\n",
        "   - Approximately how much time did you spend on this assignment?\n",
        "   - What was the most difficult part?\n",
        "   - How would you improve it?\n",
        "   - Anything else you want to share or ask?"
      ]
    },
    {
      "cell_type": "markdown",
      "id": "59",
      "metadata": {
        "id": "59"
      },
      "source": [
        "**Reflection — HW1: Base Python**\n",
        "\n",
        "**Key takeaway**\n",
        "Small, testable functions + basic PEP 8 made debugging faster. Picking the right structure matters: dict for counts/lookups, set for uniqueness, iterator vs list for memory vs reuse.\n",
        "\n",
        "**Most surprising / biggest improvement**\n",
        "\n",
        "Realizing zip is lazy/single-pass and why my second list(zip(...)) was empty.\n",
        "\n",
        "Using dict.get (and Counter) collapsed “create-or-update” into one clean line.\n",
        "\n",
        "**Concrete before/after**\n",
        "\n",
        "Before: nested loops and if/else to update counts.\n",
        "After: counts[ch] = counts.get(ch, 0) + 1 (shorter, clearer, fewer bugs).\n",
        "\n",
        "\n",
        "**GenAI use**\n",
        "\n",
        "Tools: ChatGPT and Claude.\n",
        "\n",
        "How used: to clarify topics, draft function variants, and compare approaches.\n",
        "\n",
        "Verification: ran all provided tests; added a few quick edge checks; simplified code to match course level.\n",
        "\n",
        "Helpfulness/limits: sped up exploration and explanations; sometimes suggested advanced patterns—I mitigated by simplifying and testing.\n",
        "\n",
        "**Feedback**\n",
        "\n",
        "Time spent: 15+ hours.\n",
        "\n",
        "Most difficult: the overall length and repeated sections; parts felt off-track from class topics.\n",
        "\n",
        "How to improve: shorten and de-duplicate tasks, align more with lectures, add a few guided hints/examples, and include “why this test exists” notes.\n",
        "\n",
        "Anything else: I learned a lot, but the workload was heavy; smaller, staged milestones would help.\n",
        "\n"
      ]
    }
  ],
  "metadata": {
    "kernelspec": {
      "display_name": "INSY6500-Py4EDA",
      "language": "python",
      "name": "insy6500-py4eda"
    },
    "language_info": {
      "codemirror_mode": {
        "name": "ipython",
        "version": 3
      },
      "file_extension": ".py",
      "mimetype": "text/x-python",
      "name": "python",
      "nbconvert_exporter": "python",
      "pygments_lexer": "ipython3",
      "version": "3.13.5"
    },
    "colab": {
      "provenance": []
    }
  },
  "nbformat": 4,
  "nbformat_minor": 5
}